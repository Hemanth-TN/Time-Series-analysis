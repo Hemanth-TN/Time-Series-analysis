{
 "cells": [
  {
   "cell_type": "code",
   "execution_count": 131,
   "id": "eb3745aa",
   "metadata": {},
   "outputs": [],
   "source": [
    "import pandas as pd\n",
    "import numpy as np\n",
    "import matplotlib.pyplot as plt\n",
    "import cartopy.crs as ccrs\n",
    "import cartopy.feature as cfeature\n",
    "import random\n",
    "from pathlib import Path\n",
    "import os\n",
    "import plotly.graph_objects as go\n",
    "from geopy.geocoders import Nominatim\n",
    "import plotly.express as px"
   ]
  },
  {
   "cell_type": "code",
   "execution_count": 132,
   "id": "22cf6f2b",
   "metadata": {},
   "outputs": [],
   "source": [
    "def get_city_data(city_name:str):\n",
    "    csv_paths =  list(Path(f\"AQ_data/{city_name}\").rglob(\"**/*.csv\"))  # store once\n",
    "    city_dfs = []\n",
    "    for f in csv_paths:\n",
    "        df = pd.read_csv(f, index_col=['Timestamp'], parse_dates=True)\n",
    "        city_dfs.append(df)\n",
    "\n",
    "    city_data = pd.concat(city_dfs)\n",
    "    return city_data"
   ]
  },
  {
   "cell_type": "code",
   "execution_count": 92,
   "id": "44be7415",
   "metadata": {},
   "outputs": [],
   "source": [
    "def get_pollutants_from_location(city_name:str, location_name:str):\n",
    "    csv_paths =  list(Path(\".\").rglob(f\"./AQ_data/{city_name}/{location_name}/**/**/*.csv\"))  # store once\n",
    "    city_dfs = []\n",
    "    for f in csv_paths:\n",
    "        df = pd.read_csv(f, index_col=['Timestamp'], parse_dates=True)\n",
    "        city_dfs.append(df)\n",
    "\n",
    "    city_data = pd.concat(city_dfs)\n",
    "    return city_data['pollutant'].unique().tolist()"
   ]
  },
  {
   "cell_type": "code",
   "execution_count": 93,
   "id": "856d60bc",
   "metadata": {},
   "outputs": [
    {
     "data": {
      "text/plain": [
       "['co',\n",
       " 'no',\n",
       " 'no2',\n",
       " 'o3',\n",
       " 'pm10',\n",
       " 'pm25',\n",
       " 'relativehumidity',\n",
       " 'so2',\n",
       " 'temperature']"
      ]
     },
     "execution_count": 93,
     "metadata": {},
     "output_type": "execute_result"
    }
   ],
   "source": [
    "city=\"New Delhi\"\n",
    "location_name=\"DwarkaSector_8_Delhi__DPCC_\"\n",
    "get_pollutants_from_location(city, location_name)"
   ]
  },
  {
   "cell_type": "code",
   "execution_count": 133,
   "id": "e3d24c84",
   "metadata": {},
   "outputs": [],
   "source": [
    "bangalore_data = get_city_data(\"Bangalore\")\n",
    "delhi_data = get_city_data(\"New Delhi\")\n",
    "sacremento_data = get_city_data(\"Sacremento\")\n",
    "chicago_data = get_city_data(\"Chicago\")"
   ]
  },
  {
   "cell_type": "code",
   "execution_count": 113,
   "id": "377d85ae",
   "metadata": {},
   "outputs": [
    {
     "data": {
      "text/plain": [
       "[['co',\n",
       "  'no',\n",
       "  'no2',\n",
       "  'o3',\n",
       "  'pm10',\n",
       "  'pm25',\n",
       "  'relativehumidity',\n",
       "  'so2',\n",
       "  'temperature'],\n",
       " ['co', 'pm25', 'so2', 'no2', 'o3'],\n",
       " ['pm10', 'so2', 'no2', 'co', 'o3', 'pm25'],\n",
       " ['so2', 'pm25', 'o3', 'no2', 'co'],\n",
       " ['co',\n",
       "  'no',\n",
       "  'no2',\n",
       "  'o3',\n",
       "  'pm10',\n",
       "  'pm25',\n",
       "  'relativehumidity',\n",
       "  'so2',\n",
       "  'temperature'],\n",
       " ['pm10', 'no2', 'co', 'so2'],\n",
       " ['co', 'no', 'no2', 'pm10', 'so2'],\n",
       " ['co',\n",
       "  'no',\n",
       "  'no2',\n",
       "  'o3',\n",
       "  'pm10',\n",
       "  'pm25',\n",
       "  'relativehumidity',\n",
       "  'so2',\n",
       "  'temperature'],\n",
       " ['co',\n",
       "  'no',\n",
       "  'no2',\n",
       "  'o3',\n",
       "  'pm10',\n",
       "  'pm25',\n",
       "  'relativehumidity',\n",
       "  'so2',\n",
       "  'temperature'],\n",
       " ['co',\n",
       "  'no',\n",
       "  'no2',\n",
       "  'o3',\n",
       "  'pm10',\n",
       "  'pm25',\n",
       "  'relativehumidity',\n",
       "  'so2',\n",
       "  'temperature'],\n",
       " ['co',\n",
       "  'no',\n",
       "  'no2',\n",
       "  'o3',\n",
       "  'pm10',\n",
       "  'pm25',\n",
       "  'relativehumidity',\n",
       "  'so2',\n",
       "  'temperature'],\n",
       " ['co',\n",
       "  'no',\n",
       "  'no2',\n",
       "  'o3',\n",
       "  'pm10',\n",
       "  'pm25',\n",
       "  'relativehumidity',\n",
       "  'so2',\n",
       "  'temperature'],\n",
       " ['pm25', 'so2', 'no2', 'co'],\n",
       " ['co',\n",
       "  'no',\n",
       "  'no2',\n",
       "  'o3',\n",
       "  'pm10',\n",
       "  'pm25',\n",
       "  'relativehumidity',\n",
       "  'so2',\n",
       "  'temperature'],\n",
       " ['co', 'no', 'no2', 'pm10', 'relativehumidity', 'so2', 'temperature'],\n",
       " ['so2', 'pm10', 'no2', 'co'],\n",
       " ['co',\n",
       "  'no',\n",
       "  'no2',\n",
       "  'o3',\n",
       "  'pm10',\n",
       "  'pm25',\n",
       "  'relativehumidity',\n",
       "  'so2',\n",
       "  'temperature'],\n",
       " ['co',\n",
       "  'no',\n",
       "  'no2',\n",
       "  'o3',\n",
       "  'pm10',\n",
       "  'pm25',\n",
       "  'relativehumidity',\n",
       "  'so2',\n",
       "  'temperature'],\n",
       " ['temperature', 'pm25', 'pm1', 'pm10', 'relativehumidity', 'um003']]"
      ]
     },
     "execution_count": 113,
     "metadata": {},
     "output_type": "execute_result"
    }
   ],
   "source": [
    "def get_pollutants(df):\n",
    "    return df['pollutant'].unique().tolist()\n",
    "\n",
    "list(bangalore_data.groupby('location_name').apply(get_pollutants, include_groups=False).values)"
   ]
  },
  {
   "cell_type": "code",
   "execution_count": 103,
   "id": "fa006a0c",
   "metadata": {},
   "outputs": [
    {
     "data": {
      "text/plain": [
       "<Axes: title={'center': 'Number of pollutants monitored per location in Bangalore'}, xlabel='Location Name', ylabel='Number of pollutants'>"
      ]
     },
     "execution_count": 103,
     "metadata": {},
     "output_type": "execute_result"
    },
    {
     "data": {
      "image/png": "[encoded data removed]",
      "text/plain": [
       "<Figure size 1000x500 with 1 Axes>"
      ]
     },
     "metadata": {},
     "output_type": "display_data"
    }
   ],
   "source": [
    "delhi_data.groupby('location_name').apply(get_pollutants, include_groups=False).plot(kind='bar', \n",
    "                                                                                         title='Number of pollutants monitored per location in Bangalore',\n",
    "                                                                                         ylabel='Number of pollutants', xlabel='Location Name', figsize=(10,5))"
   ]
  },
  {
   "cell_type": "code",
   "execution_count": 104,
   "id": "1d9210f4",
   "metadata": {},
   "outputs": [
    {
     "data": {
      "text/plain": [
       "<Axes: title={'center': 'Number of pollutants monitored per location in Bangalore'}, xlabel='Location Name', ylabel='Number of pollutants'>"
      ]
     },
     "execution_count": 104,
     "metadata": {},
     "output_type": "execute_result"
    },
    {
     "data": {
      "image/png": "[encoded data removed]",
      "text/plain": [
       "<Figure size 1000x500 with 1 Axes>"
      ]
     },
     "metadata": {},
     "output_type": "display_data"
    }
   ],
   "source": [
    "chicago_data.groupby('location_name').apply(get_pollutants, include_groups=False).plot(kind='bar', \n",
    "                                                                                         title='Number of pollutants monitored per location in Bangalore',\n",
    "                                                                                         ylabel='Number of pollutants', xlabel='Location Name', figsize=(10,5))"
   ]
  },
  {
   "cell_type": "code",
   "execution_count": 105,
   "id": "701eecc7",
   "metadata": {},
   "outputs": [
    {
     "data": {
      "text/plain": [
       "<Axes: title={'center': 'Number of pollutants monitored per location in Bangalore'}, xlabel='Location Name', ylabel='Number of pollutants'>"
      ]
     },
     "execution_count": 105,
     "metadata": {},
     "output_type": "execute_result"
    },
    {
     "data": {
      "image/png": "[encoded data removed]",
      "text/plain": [
       "<Figure size 1000x500 with 1 Axes>"
      ]
     },
     "metadata": {},
     "output_type": "display_data"
    }
   ],
   "source": [
    "sacremento_data.groupby('location_name').apply(get_pollutants, include_groups=False).plot(kind='bar', \n",
    "                                                                                         title='Number of pollutants monitored per location in Bangalore',\n",
    "                                                                                         ylabel='Number of pollutants', xlabel='Location Name', figsize=(10,5))"
   ]
  },
  {
   "cell_type": "code",
   "execution_count": 126,
   "id": "4e3ccb14",
   "metadata": {},
   "outputs": [],
   "source": [
    "def get_pollutants(df):\n",
    "    return df['pollutant'].unique().tolist()\n",
    "\n",
    "def plot_locations(df:pd.DataFrame, city_name):\n",
    "    unique_locations_df = df.groupby('location_name').sample(1)\n",
    "    unique_locations_df['readings_available'] = df.groupby('location_name').apply(get_pollutants, include_groups=False).values\n",
    "    unique_locations_df['size'] = 1\n",
    "    fig = px.scatter_map(\n",
    "    unique_locations_df,\n",
    "    lat=\"latitude\",\n",
    "    lon=\"longitude\",\n",
    "    hover_name=\"location_name\",\n",
    "    size='size',\n",
    "    hover_data={\"size\":False, \"latitude\":False, \"longitude\":False, 'readings_available':True},\n",
    "    zoom=10,\n",
    "    width=1000,\n",
    "    height=700)  \n",
    "    \n",
    "    latitude = unique_locations_df['latitude'].mean()\n",
    "    longitude = unique_locations_df['longitude'].mean()\n",
    "    \n",
    "\n",
    "    fig.update_layout(\n",
    "        title=f\"Locations in the {city_name} Region\",\n",
    "        geo=dict(\n",
    "            center=dict(lat=latitude, lon=longitude), # Coordinates for city\n",
    "            projection_scale=100 # Adjust this value to zoom in or out\n",
    "        )\n",
    "    )\n",
    "    return fig\n"
   ]
  },
  {
   "cell_type": "code",
   "execution_count": 130,
   "id": "3908790a",
   "metadata": {},
   "outputs": [
    {
     "data": {
      "application/vnd.plotly.v1+json": {
       "config": {
        "plotlyServerURL": "https://plot.ly"
       },
       "data": [
        {
         "customdata": [
          [
           1,
           12.9135218,
           77.5950804,
           [
            "co",
            "no",
            "no2",
            "o3",
            "pm10",
            "pm25",
            "relativehumidity",
            "so2",
            "temperature"
           ]
          ],
          [
           1,
           12.912811110000002,
           77.60921944,
           [
            "co",
            "pm25",
            "so2",
            "no2",
            "o3"
           ]
          ],
          [
           1,
           12.9352049,
           77.6814488,
           [
            "pm10",
            "so2",
            "no2",
            "co",
            "o3",
            "pm25"
           ]
          ],
          [
           1,
           12.93890556,
           77.69727222,
           [
            "so2",
            "pm25",
            "o3",
            "no2",
            "co"
           ]
          ],
          [
           1,
           12.951913,
           77.539784,
           [
            "co",
            "no",
            "no2",
            "o3",
            "pm10",
            "pm25",
            "relativehumidity",
            "so2",
            "temperature"
           ]
          ],
          [
           1,
           12.9773472,
           77.5706972222222,
           [
            "pm10",
            "no2",
            "co",
            "so2"
           ]
          ],
          [
           1,
           12.9756843,
           77.5660749,
           [
            "co",
            "no",
            "no2",
            "pm10",
            "so2"
           ]
          ],
          [
           1,
           13.029152,
           77.585901,
           [
            "co",
            "no",
            "no2",
            "o3",
            "pm10",
            "pm25",
            "relativehumidity",
            "so2",
            "temperature"
           ]
          ],
          [
           1,
           12.938539,
           77.5901,
           [
            "co",
            "no",
            "no2",
            "o3",
            "pm10",
            "pm25",
            "relativehumidity",
            "so2",
            "temperature"
           ]
          ],
          [
           1,
           12.920984,
           77.584908,
           [
            "co",
            "no",
            "no2",
            "o3",
            "pm10",
            "pm25",
            "relativehumidity",
            "so2",
            "temperature"
           ]
          ],
          [
           1,
           13.003872,
           77.664217,
           [
            "co",
            "no",
            "no2",
            "o3",
            "pm10",
            "pm25",
            "relativehumidity",
            "so2",
            "temperature"
           ]
          ],
          [
           1,
           13.0270199,
           77.494094,
           [
            "co",
            "no",
            "no2",
            "o3",
            "pm10",
            "pm25",
            "relativehumidity",
            "so2",
            "temperature"
           ]
          ],
          [
           1,
           13.0339,
           77.51321111,
           [
            "pm25",
            "so2",
            "no2",
            "co"
           ]
          ],
          [
           1,
           12.921418,
           77.502466,
           [
            "co",
            "no",
            "no2",
            "o3",
            "pm10",
            "pm25",
            "relativehumidity",
            "so2",
            "temperature"
           ]
          ],
          [
           1,
           12.990328,
           77.5431385,
           [
            "co",
            "no",
            "no2",
            "pm10",
            "relativehumidity",
            "so2",
            "temperature"
           ]
          ],
          [
           1,
           12.9916694,
           77.5458305555555,
           [
            "so2",
            "pm10",
            "no2",
            "co"
           ]
          ],
          [
           1,
           13.0246342,
           77.5080115,
           [
            "co",
            "no",
            "no2",
            "o3",
            "pm10",
            "pm25",
            "relativehumidity",
            "so2",
            "temperature"
           ]
          ],
          [
           1,
           12.917348,
           77.622813,
           [
            "co",
            "no",
            "no2",
            "o3",
            "pm10",
            "pm25",
            "relativehumidity",
            "so2",
            "temperature"
           ]
          ],
          [
           1,
           12.909153635368195,
           77.52476183092863,
           [
            "temperature",
            "pm25",
            "pm1",
            "pm10",
            "relativehumidity",
            "um003"
           ]
          ]
         ],
         "hovertemplate": "<b>%{hovertext}</b><br><br>readings_available=%{customdata[3]}<extra></extra>",
         "hovertext": [
          "BTM Layout, Bengaluru - CPCB",
          "BTM Layout, Bengaluru - KSPCB",
          "BWSSB Kadabesanahalli, Bengaluru - CPCB",
          "BWSSB Kadabesanahalli, Bengaluru - KSPCB",
          "Bapuji Nagar, Bengaluru - KSPCB",
          "City Railway Station - KSPCB",
          "City Railway Station, Bengaluru - KSPCB",
          "Hebbal, Bengaluru - KSPCB",
          "Hombegowda Nagar, Bengaluru - KSPCB",
          "Jayanagar 5th Block, Bengaluru - KSPCB",
          "Kasturi Nagar, Bengaluru - KSPCB",
          "Peenya, Bengaluru - CPCB",
          "Peenya, Bengaluru - KSPCB",
          "RVCE-Mailasandra, Bengaluru - KSPCB",
          "Sanegurava Halli, Bengaluru - KSPCB",
          "SaneguravaHalli - KSPCB",
          "Shivapura_Peenya, Bengaluru - KSPCB",
          "Silk Board, Bengaluru - KSPCB",
          "SiriJaya"
         ],
         "lat": {
          "bdata": "uV0eIbnTKUA9wFH6W9MpQC8eOS3T3ilAE3fEOrjgKUBFRgckYecpQKKsKdpm9ClA+XB/5IzzKUDaOc0C7Q4qQIUKDi+I4ClATkcAN4vXKUB/vcKC+wEqQLGuZY3VDSpANqs+V1sRKkA25J8ZxNcpQE2giEUM+ylATONyF7z7KUDruZbanAwqQB4aFqOu1SlATuTVlXzRKUA=",
          "dtype": "f8"
         },
         "legendgroup": "",
         "lon": {
          "bdata": "Zh8azBVmU0DMuIhz/WZTQIB5bduca1NAzFOpG6BsU0DcuTDSi2JTQDFXpE2GZFNAiaU3kjpkU0BmbOhmf2VTQKhXyjLEZVNAzcr2IW9lU0CfHAWIgmpTQJfJcDyfX1NANVlpc9hgU0CGVidnKGBTQLSs+8fCYlNALVFI4+5iU0B7n6pCg2BTQIOhDivcZ1NAw4GlspVhU0A=",
          "dtype": "f8"
         },
         "marker": {
          "color": "#636efa",
          "size": {
           "bdata": "AQEBAQEBAQEBAQEBAQEBAQEBAQ==",
           "dtype": "i1"
          },
          "sizemode": "area",
          "sizeref": 0.0025
         },
         "mode": "markers",
         "name": "",
         "showlegend": false,
         "subplot": "map",
         "type": "scattermap"
        }
       ],
       "layout": {
        "geo": {
         "center": {
          "lat": 12.963863473966748,
          "lon": 77.57573839361612
         },
         "projection": {
          "scale": 100
         }
        },
        "height": 700,
        "legend": {
         "itemsizing": "constant",
         "tracegroupgap": 0
        },
        "map": {
         "center": {
          "lat": 12.963863473966748,
          "lon": 77.57573839361612
         },
         "domain": {
          "x": [
           0,
           1
          ],
          "y": [
           0,
           1
          ]
         },
         "zoom": 10
        },
        "mapbox": {
         "center": {
          "lat": 12.963863473966748,
          "lon": 77.57573839361612
         },
         "zoom": 10
        },
        "margin": {
         "t": 60
        },
        "template": {
         "data": {
          "bar": [
           {
            "error_x": {
             "color": "#2a3f5f"
            },
            "error_y": {
             "color": "#2a3f5f"
            },
            "marker": {
             "line": {
              "color": "#E5ECF6",
              "width": 0.5
             },
             "pattern": {
              "fillmode": "overlay",
              "size": 10,
              "solidity": 0.2
             }
            },
            "type": "bar"
           }
          ],
          "barpolar": [
           {
            "marker": {
             "line": {
              "color": "#E5ECF6",
              "width": 0.5
             },
             "pattern": {
              "fillmode": "overlay",
              "size": 10,
              "solidity": 0.2
             }
            },
            "type": "barpolar"
           }
          ],
          "carpet": [
           {
            "aaxis": {
             "endlinecolor": "#2a3f5f",
             "gridcolor": "white",
             "linecolor": "white",
             "minorgridcolor": "white",
             "startlinecolor": "#2a3f5f"
            },
            "baxis": {
             "endlinecolor": "#2a3f5f",
             "gridcolor": "white",
             "linecolor": "white",
             "minorgridcolor": "white",
             "startlinecolor": "#2a3f5f"
            },
            "type": "carpet"
           }
          ],
          "choropleth": [
           {
            "colorbar": {
             "outlinewidth": 0,
             "ticks": ""
            },
            "type": "choropleth"
           }
          ],
          "contour": [
           {
            "colorbar": {
             "outlinewidth": 0,
             "ticks": ""
            },
            "colorscale": [
             [
              0,
              "#0d0887"
             ],
             [
              0.1111111111111111,
              "#46039f"
             ],
             [
              0.2222222222222222,
              "#7201a8"
             ],
             [
              0.3333333333333333,
              "#9c179e"
             ],
             [
              0.4444444444444444,
              "#bd3786"
             ],
             [
              0.5555555555555556,
              "#d8576b"
             ],
             [
              0.6666666666666666,
              "#ed7953"
             ],
             [
              0.7777777777777778,
              "#fb9f3a"
             ],
             [
              0.8888888888888888,
              "#fdca26"
             ],
             [
              1,
              "#f0f921"
             ]
            ],
            "type": "contour"
           }
          ],
          "contourcarpet": [
           {
            "colorbar": {
             "outlinewidth": 0,
             "ticks": ""
            },
            "type": "contourcarpet"
           }
          ],
          "heatmap": [
           {
            "colorbar": {
             "outlinewidth": 0,
             "ticks": ""
            },
            "colorscale": [
             [
              0,
              "#0d0887"
             ],
             [
              0.1111111111111111,
              "#46039f"
             ],
             [
              0.2222222222222222,
              "#7201a8"
             ],
             [
              0.3333333333333333,
              "#9c179e"
             ],
             [
              0.4444444444444444,
              "#bd3786"
             ],
             [
              0.5555555555555556,
              "#d8576b"
             ],
             [
              0.6666666666666666,
              "#ed7953"
             ],
             [
              0.7777777777777778,
              "#fb9f3a"
             ],
             [
              0.8888888888888888,
              "#fdca26"
             ],
             [
              1,
              "#f0f921"
             ]
            ],
            "type": "heatmap"
           }
          ],
          "histogram": [
           {
            "marker": {
             "pattern": {
              "fillmode": "overlay",
              "size": 10,
              "solidity": 0.2
             }
            },
            "type": "histogram"
           }
          ],
          "histogram2d": [
           {
            "colorbar": {
             "outlinewidth": 0,
             "ticks": ""
            },
            "colorscale": [
             [
              0,
              "#0d0887"
             ],
             [
              0.1111111111111111,
              "#46039f"
             ],
             [
              0.2222222222222222,
              "#7201a8"
             ],
             [
              0.3333333333333333,
              "#9c179e"
             ],
             [
              0.4444444444444444,
              "#bd3786"
             ],
             [
              0.5555555555555556,
              "#d8576b"
             ],
             [
              0.6666666666666666,
              "#ed7953"
             ],
             [
              0.7777777777777778,
              "#fb9f3a"
             ],
             [
              0.8888888888888888,
              "#fdca26"
             ],
             [
              1,
              "#f0f921"
             ]
            ],
            "type": "histogram2d"
           }
          ],
          "histogram2dcontour": [
           {
            "colorbar": {
             "outlinewidth": 0,
             "ticks": ""
            },
            "colorscale": [
             [
              0,
              "#0d0887"
             ],
             [
              0.1111111111111111,
              "#46039f"
             ],
             [
              0.2222222222222222,
              "#7201a8"
             ],
             [
              0.3333333333333333,
              "#9c179e"
             ],
             [
              0.4444444444444444,
              "#bd3786"
             ],
             [
              0.5555555555555556,
              "#d8576b"
             ],
             [
              0.6666666666666666,
              "#ed7953"
             ],
             [
              0.7777777777777778,
              "#fb9f3a"
             ],
             [
              0.8888888888888888,
              "#fdca26"
             ],
             [
              1,
              "#f0f921"
             ]
            ],
            "type": "histogram2dcontour"
           }
          ],
          "mesh3d": [
           {
            "colorbar": {
             "outlinewidth": 0,
             "ticks": ""
            },
            "type": "mesh3d"
           }
          ],
          "parcoords": [
           {
            "line": {
             "colorbar": {
              "outlinewidth": 0,
              "ticks": ""
             }
            },
            "type": "parcoords"
           }
          ],
          "pie": [
           {
            "automargin": true,
            "type": "pie"
           }
          ],
          "scatter": [
           {
            "fillpattern": {
             "fillmode": "overlay",
             "size": 10,
             "solidity": 0.2
            },
            "type": "scatter"
           }
          ],
          "scatter3d": [
           {
            "line": {
             "colorbar": {
              "outlinewidth": 0,
              "ticks": ""
             }
            },
            "marker": {
             "colorbar": {
              "outlinewidth": 0,
              "ticks": ""
             }
            },
            "type": "scatter3d"
           }
          ],
          "scattercarpet": [
           {
            "marker": {
             "colorbar": {
              "outlinewidth": 0,
              "ticks": ""
             }
            },
            "type": "scattercarpet"
           }
          ],
          "scattergeo": [
           {
            "marker": {
             "colorbar": {
              "outlinewidth": 0,
              "ticks": ""
             }
            },
            "type": "scattergeo"
           }
          ],
          "scattergl": [
           {
            "marker": {
             "colorbar": {
              "outlinewidth": 0,
              "ticks": ""
             }
            },
            "type": "scattergl"
           }
          ],
          "scattermap": [
           {
            "marker": {
             "colorbar": {
              "outlinewidth": 0,
              "ticks": ""
             }
            },
            "type": "scattermap"
           }
          ],
          "scattermapbox": [
           {
            "marker": {
             "colorbar": {
              "outlinewidth": 0,
              "ticks": ""
             }
            },
            "type": "scattermapbox"
           }
          ],
          "scatterpolar": [
           {
            "marker": {
             "colorbar": {
              "outlinewidth": 0,
              "ticks": ""
             }
            },
            "type": "scatterpolar"
           }
          ],
          "scatterpolargl": [
           {
            "marker": {
             "colorbar": {
              "outlinewidth": 0,
              "ticks": ""
             }
            },
            "type": "scatterpolargl"
           }
          ],
          "scatterternary": [
           {
            "marker": {
             "colorbar": {
              "outlinewidth": 0,
              "ticks": ""
             }
            },
            "type": "scatterternary"
           }
          ],
          "surface": [
           {
            "colorbar": {
             "outlinewidth": 0,
             "ticks": ""
            },
            "colorscale": [
             [
              0,
              "#0d0887"
             ],
             [
              0.1111111111111111,
              "#46039f"
             ],
             [
              0.2222222222222222,
              "#7201a8"
             ],
             [
              0.3333333333333333,
              "#9c179e"
             ],
             [
              0.4444444444444444,
              "#bd3786"
             ],
             [
              0.5555555555555556,
              "#d8576b"
             ],
             [
              0.6666666666666666,
              "#ed7953"
             ],
             [
              0.7777777777777778,
              "#fb9f3a"
             ],
             [
              0.8888888888888888,
              "#fdca26"
             ],
             [
              1,
              "#f0f921"
             ]
            ],
            "type": "surface"
           }
          ],
          "table": [
           {
            "cells": {
             "fill": {
              "color": "#EBF0F8"
             },
             "line": {
              "color": "white"
             }
            },
            "header": {
             "fill": {
              "color": "#C8D4E3"
             },
             "line": {
              "color": "white"
             }
            },
            "type": "table"
           }
          ]
         },
         "layout": {
          "annotationdefaults": {
           "arrowcolor": "#2a3f5f",
           "arrowhead": 0,
           "arrowwidth": 1
          },
          "autotypenumbers": "strict",
          "coloraxis": {
           "colorbar": {
            "outlinewidth": 0,
            "ticks": ""
           }
          },
          "colorscale": {
           "diverging": [
            [
             0,
             "#8e0152"
            ],
            [
             0.1,
             "#c51b7d"
            ],
            [
             0.2,
             "#de77ae"
            ],
            [
             0.3,
             "#f1b6da"
            ],
            [
             0.4,
             "#fde0ef"
            ],
            [
             0.5,
             "#f7f7f7"
            ],
            [
             0.6,
             "#e6f5d0"
            ],
            [
             0.7,
             "#b8e186"
            ],
            [
             0.8,
             "#7fbc41"
            ],
            [
             0.9,
             "#4d9221"
            ],
            [
             1,
             "#276419"
            ]
           ],
           "sequential": [
            [
             0,
             "#0d0887"
            ],
            [
             0.1111111111111111,
             "#46039f"
            ],
            [
             0.2222222222222222,
             "#7201a8"
            ],
            [
             0.3333333333333333,
             "#9c179e"
            ],
            [
             0.4444444444444444,
             "#bd3786"
            ],
            [
             0.5555555555555556,
             "#d8576b"
            ],
            [
             0.6666666666666666,
             "#ed7953"
            ],
            [
             0.7777777777777778,
             "#fb9f3a"
            ],
            [
             0.8888888888888888,
             "#fdca26"
            ],
            [
             1,
             "#f0f921"
            ]
           ],
           "sequentialminus": [
            [
             0,
             "#0d0887"
            ],
            [
             0.1111111111111111,
             "#46039f"
            ],
            [
             0.2222222222222222,
             "#7201a8"
            ],
            [
             0.3333333333333333,
             "#9c179e"
            ],
            [
             0.4444444444444444,
             "#bd3786"
            ],
            [
             0.5555555555555556,
             "#d8576b"
            ],
            [
             0.6666666666666666,
             "#ed7953"
            ],
            [
             0.7777777777777778,
             "#fb9f3a"
            ],
            [
             0.8888888888888888,
             "#fdca26"
            ],
            [
             1,
             "#f0f921"
            ]
           ]
          },
          "colorway": [
           "#636efa",
           "#EF553B",
           "#00cc96",
           "#ab63fa",
           "#FFA15A",
           "#19d3f3",
           "#FF6692",
           "#B6E880",
           "#FF97FF",
           "#FECB52"
          ],
          "font": {
           "color": "#2a3f5f"
          },
          "geo": {
           "bgcolor": "white",
           "lakecolor": "white",
           "landcolor": "#E5ECF6",
           "showlakes": true,
           "showland": true,
           "subunitcolor": "white"
          },
          "hoverlabel": {
           "align": "left"
          },
          "hovermode": "closest",
          "mapbox": {
           "style": "light"
          },
          "paper_bgcolor": "white",
          "plot_bgcolor": "#E5ECF6",
          "polar": {
           "angularaxis": {
            "gridcolor": "white",
            "linecolor": "white",
            "ticks": ""
           },
           "bgcolor": "#E5ECF6",
           "radialaxis": {
            "gridcolor": "white",
            "linecolor": "white",
            "ticks": ""
           }
          },
          "scene": {
           "xaxis": {
            "backgroundcolor": "#E5ECF6",
            "gridcolor": "white",
            "gridwidth": 2,
            "linecolor": "white",
            "showbackground": true,
            "ticks": "",
            "zerolinecolor": "white"
           },
           "yaxis": {
            "backgroundcolor": "#E5ECF6",
            "gridcolor": "white",
            "gridwidth": 2,
            "linecolor": "white",
            "showbackground": true,
            "ticks": "",
            "zerolinecolor": "white"
           },
           "zaxis": {
            "backgroundcolor": "#E5ECF6",
            "gridcolor": "white",
            "gridwidth": 2,
            "linecolor": "white",
            "showbackground": true,
            "ticks": "",
            "zerolinecolor": "white"
           }
          },
          "shapedefaults": {
           "line": {
            "color": "#2a3f5f"
           }
          },
          "ternary": {
           "aaxis": {
            "gridcolor": "white",
            "linecolor": "white",
            "ticks": ""
           },
           "baxis": {
            "gridcolor": "white",
            "linecolor": "white",
            "ticks": ""
           },
           "bgcolor": "#E5ECF6",
           "caxis": {
            "gridcolor": "white",
            "linecolor": "white",
            "ticks": ""
           }
          },
          "title": {
           "x": 0.05
          },
          "xaxis": {
           "automargin": true,
           "gridcolor": "white",
           "linecolor": "white",
           "ticks": "",
           "title": {
            "standoff": 15
           },
           "zerolinecolor": "white",
           "zerolinewidth": 2
          },
          "yaxis": {
           "automargin": true,
           "gridcolor": "white",
           "linecolor": "white",
           "ticks": "",
           "title": {
            "standoff": 15
           },
           "zerolinecolor": "white",
           "zerolinewidth": 2
          }
         }
        },
        "title": {
         "text": "Locations in the Bangalore Region"
        },
        "width": 1000
       }
      }
     },
     "metadata": {},
     "output_type": "display_data"
    }
   ],
   "source": [
    "fig = plot_locations(bangalore_data, 'Bangalore')\n",
    "fig.show()"
   ]
  },
  {
   "cell_type": "code",
   "execution_count": 4,
   "id": "3500f3fa",
   "metadata": {},
   "outputs": [
    {
     "data": {
      "text/plain": [
       "Index(['Timestamp', 'min', 'q02', 'q25', 'median', 'q75', 'q98', 'max', 'avg',\n",
       "       'sd', 'pollutant', 'location_name', 'latitude', 'longitude', 'unit',\n",
       "       'sensor_id', 'city_name', 'state', 'country'],\n",
       "      dtype='object')"
      ]
     },
     "execution_count": 4,
     "metadata": {},
     "output_type": "execute_result"
    }
   ],
   "source": [
    "df.reset_index().columns"
   ]
  },
  {
   "cell_type": "code",
   "execution_count": 6,
   "id": "586ed517",
   "metadata": {},
   "outputs": [],
   "source": [
    "locs = random.sample(df.location_name.unique().tolist(), k=5)\n",
    "pattern = \"|\".join(locs)\n",
    "locs_df = df[df.location_name.str.contains(pattern)]"
   ]
  },
  {
   "cell_type": "code",
   "execution_count": 7,
   "id": "f1e3aee1",
   "metadata": {},
   "outputs": [],
   "source": [
    "sub_df = locs_df.groupby(['location_name','latitude','longitude'], as_index=False)['avg'].mean()"
   ]
  },
  {
   "cell_type": "code",
   "execution_count": 12,
   "id": "d82a6f09",
   "metadata": {},
   "outputs": [
    {
     "data": {
      "text/html": [
       "<div>\n",
       "<style scoped>\n",
       "    .dataframe tbody tr th:only-of-type {\n",
       "        vertical-align: middle;\n",
       "    }\n",
       "\n",
       "    .dataframe tbody tr th {\n",
       "        vertical-align: top;\n",
       "    }\n",
       "\n",
       "    .dataframe thead th {\n",
       "        text-align: right;\n",
       "    }\n",
       "</style>\n",
       "<table border=\"1\" class=\"dataframe\">\n",
       "  <thead>\n",
       "    <tr style=\"text-align: right;\">\n",
       "      <th></th>\n",
       "      <th>location_name</th>\n",
       "      <th>latitude</th>\n",
       "      <th>longitude</th>\n",
       "      <th>avg</th>\n",
       "    </tr>\n",
       "  </thead>\n",
       "  <tbody>\n",
       "    <tr>\n",
       "      <th>0</th>\n",
       "      <td>BTM Layout, Bengaluru - KSPCB</td>\n",
       "      <td>12.912811</td>\n",
       "      <td>77.609219</td>\n",
       "      <td>187.222116</td>\n",
       "    </tr>\n",
       "    <tr>\n",
       "      <th>1</th>\n",
       "      <td>Bapuji Nagar, Bengaluru - KSPCB</td>\n",
       "      <td>12.951913</td>\n",
       "      <td>77.539784</td>\n",
       "      <td>26.064102</td>\n",
       "    </tr>\n",
       "    <tr>\n",
       "      <th>2</th>\n",
       "      <td>SaneguravaHalli - KSPCB</td>\n",
       "      <td>12.991669</td>\n",
       "      <td>77.545831</td>\n",
       "      <td>178.069638</td>\n",
       "    </tr>\n",
       "    <tr>\n",
       "      <th>3</th>\n",
       "      <td>Shivapura_Peenya, Bengaluru - KSPCB</td>\n",
       "      <td>13.024634</td>\n",
       "      <td>77.508011</td>\n",
       "      <td>2616.146341</td>\n",
       "    </tr>\n",
       "    <tr>\n",
       "      <th>4</th>\n",
       "      <td>Silk Board, Bengaluru - KSPCB</td>\n",
       "      <td>12.917348</td>\n",
       "      <td>77.622813</td>\n",
       "      <td>138.736770</td>\n",
       "    </tr>\n",
       "  </tbody>\n",
       "</table>\n",
       "</div>"
      ],
      "text/plain": [
       "                         location_name   latitude  longitude          avg\n",
       "0        BTM Layout, Bengaluru - KSPCB  12.912811  77.609219   187.222116\n",
       "1      Bapuji Nagar, Bengaluru - KSPCB  12.951913  77.539784    26.064102\n",
       "2              SaneguravaHalli - KSPCB  12.991669  77.545831   178.069638\n",
       "3  Shivapura_Peenya, Bengaluru - KSPCB  13.024634  77.508011  2616.146341\n",
       "4        Silk Board, Bengaluru - KSPCB  12.917348  77.622813   138.736770"
      ]
     },
     "execution_count": 12,
     "metadata": {},
     "output_type": "execute_result"
    }
   ],
   "source": [
    "sub_df"
   ]
  },
  {
   "cell_type": "code",
   "execution_count": 11,
   "id": "e36845d0",
   "metadata": {},
   "outputs": [
    {
     "data": {
      "image/png": "[encoded data removed]",
      "text/plain": [
       "<Figure size 1000x800 with 2 Axes>"
      ]
     },
     "metadata": {},
     "output_type": "display_data"
    }
   ],
   "source": [
    "# Create a figure and axes with a Plate Carree projection\n",
    "fig = plt.figure(figsize=(10, 8))\n",
    "ax = fig.add_subplot(1, 1, 1, projection=ccrs.PlateCarree())\n",
    "\n",
    "# Set the map's extent to focus on Bangalore\n",
    "# This is the key change from a large-scale map\n",
    "ax.set_extent([75, 80, 11, 15], crs=ccrs.PlateCarree())\n",
    "\n",
    "# Add map features for context, such as land, ocean, and state borders\n",
    "ax.add_feature(cfeature.LAND)\n",
    "ax.add_feature(cfeature.OCEAN)\n",
    "ax.add_feature(cfeature.COASTLINE)\n",
    "ax.add_feature(cfeature.BORDERS, linestyle=':')\n",
    "ax.add_feature(cfeature.STATES)\n",
    "\n",
    "# Plot the data points, coloring them by the 'value' column\n",
    "scatter = ax.scatter(df['longitude'], df['latitude'],\n",
    "                     c=df['avg'], cmap='viridis', s=100,\n",
    "                     transform=ccrs.PlateCarree())\n",
    "\n",
    "# Add a color bar to explain the colors\n",
    "cbar = fig.colorbar(scatter, ax=ax, orientation='vertical', shrink=0.7)\n",
    "cbar.set_label('Value', rotation=270, labelpad=15)\n",
    "\n",
    "# Add titles and show the plot\n",
    "ax.set_title('Colored Locations in Bangalore')\n",
    "plt.show()"
   ]
  },
  {
   "cell_type": "code",
   "execution_count": null,
   "id": "607afbd6",
   "metadata": {},
   "outputs": [],
   "source": []
  },
  {
   "cell_type": "code",
   "execution_count": 21,
   "id": "ae9b6798",
   "metadata": {},
   "outputs": [
    {
     "data": {
      "application/vnd.plotly.v1+json": {
       "config": {
        "plotlyServerURL": "https://plot.ly"
       },
       "data": [
        {
         "hovertemplate": "<b>%{hovertext}</b><br><br>avg=%{marker.size}<br>latitude=%{lat}<br>longitude=%{lon}<extra></extra>",
         "hovertext": [
          "BTM Layout, Bengaluru - KSPCB",
          "Bapuji Nagar, Bengaluru - KSPCB",
          "SaneguravaHalli - KSPCB",
          "Shivapura_Peenya, Bengaluru - KSPCB",
          "Silk Board, Bengaluru - KSPCB"
         ],
         "lat": {
          "bdata": "PcBR+lvTKUBFRgckYecpQEzjche8+ylA67mW2pwMKkAeGhajrtUpQA==",
          "dtype": "f8"
         },
         "legendgroup": "",
         "lon": {
          "bdata": "zLiIc/1mU0DcuTDSi2JTQC1RSOPuYlNAe5+qQoNgU0CDoQ4r3GdTQA==",
          "dtype": "f8"
         },
         "marker": {
          "color": "#636efa",
          "size": {
           "bdata": "sZUGkhtnZ0BnYWsBaRA6QFMif3g6QmZAdQ897UpwpEDDIcCek1dhQA==",
           "dtype": "f8"
          },
          "sizemode": "area",
          "sizeref": 1.2919241191290098
         },
         "mode": "markers",
         "name": "",
         "showlegend": false,
         "subplot": "map",
         "type": "scattermap"
        }
       ],
       "layout": {
        "legend": {
         "itemsizing": "constant",
         "tracegroupgap": 0
        },
        "map": {
         "center": {
          "lat": 12.959675142,
          "lon": 77.5651316991111
         },
         "domain": {
          "x": [
           0,
           1
          ],
          "y": [
           0,
           1
          ]
         },
         "zoom": 10
        },
        "mapbox": {
         "center": {
          "lat": 12.959675142,
          "lon": 77.5651316991111
         },
         "zoom": 10
        },
        "margin": {
         "t": 60
        },
        "template": {
         "data": {
          "bar": [
           {
            "error_x": {
             "color": "#2a3f5f"
            },
            "error_y": {
             "color": "#2a3f5f"
            },
            "marker": {
             "line": {
              "color": "#E5ECF6",
              "width": 0.5
             },
             "pattern": {
              "fillmode": "overlay",
              "size": 10,
              "solidity": 0.2
             }
            },
            "type": "bar"
           }
          ],
          "barpolar": [
           {
            "marker": {
             "line": {
              "color": "#E5ECF6",
              "width": 0.5
             },
             "pattern": {
              "fillmode": "overlay",
              "size": 10,
              "solidity": 0.2
             }
            },
            "type": "barpolar"
           }
          ],
          "carpet": [
           {
            "aaxis": {
             "endlinecolor": "#2a3f5f",
             "gridcolor": "white",
             "linecolor": "white",
             "minorgridcolor": "white",
             "startlinecolor": "#2a3f5f"
            },
            "baxis": {
             "endlinecolor": "#2a3f5f",
             "gridcolor": "white",
             "linecolor": "white",
             "minorgridcolor": "white",
             "startlinecolor": "#2a3f5f"
            },
            "type": "carpet"
           }
          ],
          "choropleth": [
           {
            "colorbar": {
             "outlinewidth": 0,
             "ticks": ""
            },
            "type": "choropleth"
           }
          ],
          "contour": [
           {
            "colorbar": {
             "outlinewidth": 0,
             "ticks": ""
            },
            "colorscale": [
             [
              0,
              "#0d0887"
             ],
             [
              0.1111111111111111,
              "#46039f"
             ],
             [
              0.2222222222222222,
              "#7201a8"
             ],
             [
              0.3333333333333333,
              "#9c179e"
             ],
             [
              0.4444444444444444,
              "#bd3786"
             ],
             [
              0.5555555555555556,
              "#d8576b"
             ],
             [
              0.6666666666666666,
              "#ed7953"
             ],
             [
              0.7777777777777778,
              "#fb9f3a"
             ],
             [
              0.8888888888888888,
              "#fdca26"
             ],
             [
              1,
              "#f0f921"
             ]
            ],
            "type": "contour"
           }
          ],
          "contourcarpet": [
           {
            "colorbar": {
             "outlinewidth": 0,
             "ticks": ""
            },
            "type": "contourcarpet"
           }
          ],
          "heatmap": [
           {
            "colorbar": {
             "outlinewidth": 0,
             "ticks": ""
            },
            "colorscale": [
             [
              0,
              "#0d0887"
             ],
             [
              0.1111111111111111,
              "#46039f"
             ],
             [
              0.2222222222222222,
              "#7201a8"
             ],
             [
              0.3333333333333333,
              "#9c179e"
             ],
             [
              0.4444444444444444,
              "#bd3786"
             ],
             [
              0.5555555555555556,
              "#d8576b"
             ],
             [
              0.6666666666666666,
              "#ed7953"
             ],
             [
              0.7777777777777778,
              "#fb9f3a"
             ],
             [
              0.8888888888888888,
              "#fdca26"
             ],
             [
              1,
              "#f0f921"
             ]
            ],
            "type": "heatmap"
           }
          ],
          "histogram": [
           {
            "marker": {
             "pattern": {
              "fillmode": "overlay",
              "size": 10,
              "solidity": 0.2
             }
            },
            "type": "histogram"
           }
          ],
          "histogram2d": [
           {
            "colorbar": {
             "outlinewidth": 0,
             "ticks": ""
            },
            "colorscale": [
             [
              0,
              "#0d0887"
             ],
             [
              0.1111111111111111,
              "#46039f"
             ],
             [
              0.2222222222222222,
              "#7201a8"
             ],
             [
              0.3333333333333333,
              "#9c179e"
             ],
             [
              0.4444444444444444,
              "#bd3786"
             ],
             [
              0.5555555555555556,
              "#d8576b"
             ],
             [
              0.6666666666666666,
              "#ed7953"
             ],
             [
              0.7777777777777778,
              "#fb9f3a"
             ],
             [
              0.8888888888888888,
              "#fdca26"
             ],
             [
              1,
              "#f0f921"
             ]
            ],
            "type": "histogram2d"
           }
          ],
          "histogram2dcontour": [
           {
            "colorbar": {
             "outlinewidth": 0,
             "ticks": ""
            },
            "colorscale": [
             [
              0,
              "#0d0887"
             ],
             [
              0.1111111111111111,
              "#46039f"
             ],
             [
              0.2222222222222222,
              "#7201a8"
             ],
             [
              0.3333333333333333,
              "#9c179e"
             ],
             [
              0.4444444444444444,
              "#bd3786"
             ],
             [
              0.5555555555555556,
              "#d8576b"
             ],
             [
              0.6666666666666666,
              "#ed7953"
             ],
             [
              0.7777777777777778,
              "#fb9f3a"
             ],
             [
              0.8888888888888888,
              "#fdca26"
             ],
             [
              1,
              "#f0f921"
             ]
            ],
            "type": "histogram2dcontour"
           }
          ],
          "mesh3d": [
           {
            "colorbar": {
             "outlinewidth": 0,
             "ticks": ""
            },
            "type": "mesh3d"
           }
          ],
          "parcoords": [
           {
            "line": {
             "colorbar": {
              "outlinewidth": 0,
              "ticks": ""
             }
            },
            "type": "parcoords"
           }
          ],
          "pie": [
           {
            "automargin": true,
            "type": "pie"
           }
          ],
          "scatter": [
           {
            "fillpattern": {
             "fillmode": "overlay",
             "size": 10,
             "solidity": 0.2
            },
            "type": "scatter"
           }
          ],
          "scatter3d": [
           {
            "line": {
             "colorbar": {
              "outlinewidth": 0,
              "ticks": ""
             }
            },
            "marker": {
             "colorbar": {
              "outlinewidth": 0,
              "ticks": ""
             }
            },
            "type": "scatter3d"
           }
          ],
          "scattercarpet": [
           {
            "marker": {
             "colorbar": {
              "outlinewidth": 0,
              "ticks": ""
             }
            },
            "type": "scattercarpet"
           }
          ],
          "scattergeo": [
           {
            "marker": {
             "colorbar": {
              "outlinewidth": 0,
              "ticks": ""
             }
            },
            "type": "scattergeo"
           }
          ],
          "scattergl": [
           {
            "marker": {
             "colorbar": {
              "outlinewidth": 0,
              "ticks": ""
             }
            },
            "type": "scattergl"
           }
          ],
          "scattermap": [
           {
            "marker": {
             "colorbar": {
              "outlinewidth": 0,
              "ticks": ""
             }
            },
            "type": "scattermap"
           }
          ],
          "scattermapbox": [
           {
            "marker": {
             "colorbar": {
              "outlinewidth": 0,
              "ticks": ""
             }
            },
            "type": "scattermapbox"
           }
          ],
          "scatterpolar": [
           {
            "marker": {
             "colorbar": {
              "outlinewidth": 0,
              "ticks": ""
             }
            },
            "type": "scatterpolar"
           }
          ],
          "scatterpolargl": [
           {
            "marker": {
             "colorbar": {
              "outlinewidth": 0,
              "ticks": ""
             }
            },
            "type": "scatterpolargl"
           }
          ],
          "scatterternary": [
           {
            "marker": {
             "colorbar": {
              "outlinewidth": 0,
              "ticks": ""
             }
            },
            "type": "scatterternary"
           }
          ],
          "surface": [
           {
            "colorbar": {
             "outlinewidth": 0,
             "ticks": ""
            },
            "colorscale": [
             [
              0,
              "#0d0887"
             ],
             [
              0.1111111111111111,
              "#46039f"
             ],
             [
              0.2222222222222222,
              "#7201a8"
             ],
             [
              0.3333333333333333,
              "#9c179e"
             ],
             [
              0.4444444444444444,
              "#bd3786"
             ],
             [
              0.5555555555555556,
              "#d8576b"
             ],
             [
              0.6666666666666666,
              "#ed7953"
             ],
             [
              0.7777777777777778,
              "#fb9f3a"
             ],
             [
              0.8888888888888888,
              "#fdca26"
             ],
             [
              1,
              "#f0f921"
             ]
            ],
            "type": "surface"
           }
          ],
          "table": [
           {
            "cells": {
             "fill": {
              "color": "#EBF0F8"
             },
             "line": {
              "color": "white"
             }
            },
            "header": {
             "fill": {
              "color": "#C8D4E3"
             },
             "line": {
              "color": "white"
             }
            },
            "type": "table"
           }
          ]
         },
         "layout": {
          "annotationdefaults": {
           "arrowcolor": "#2a3f5f",
           "arrowhead": 0,
           "arrowwidth": 1
          },
          "autotypenumbers": "strict",
          "coloraxis": {
           "colorbar": {
            "outlinewidth": 0,
            "ticks": ""
           }
          },
          "colorscale": {
           "diverging": [
            [
             0,
             "#8e0152"
            ],
            [
             0.1,
             "#c51b7d"
            ],
            [
             0.2,
             "#de77ae"
            ],
            [
             0.3,
             "#f1b6da"
            ],
            [
             0.4,
             "#fde0ef"
            ],
            [
             0.5,
             "#f7f7f7"
            ],
            [
             0.6,
             "#e6f5d0"
            ],
            [
             0.7,
             "#b8e186"
            ],
            [
             0.8,
             "#7fbc41"
            ],
            [
             0.9,
             "#4d9221"
            ],
            [
             1,
             "#276419"
            ]
           ],
           "sequential": [
            [
             0,
             "#0d0887"
            ],
            [
             0.1111111111111111,
             "#46039f"
            ],
            [
             0.2222222222222222,
             "#7201a8"
            ],
            [
             0.3333333333333333,
             "#9c179e"
            ],
            [
             0.4444444444444444,
             "#bd3786"
            ],
            [
             0.5555555555555556,
             "#d8576b"
            ],
            [
             0.6666666666666666,
             "#ed7953"
            ],
            [
             0.7777777777777778,
             "#fb9f3a"
            ],
            [
             0.8888888888888888,
             "#fdca26"
            ],
            [
             1,
             "#f0f921"
            ]
           ],
           "sequentialminus": [
            [
             0,
             "#0d0887"
            ],
            [
             0.1111111111111111,
             "#46039f"
            ],
            [
             0.2222222222222222,
             "#7201a8"
            ],
            [
             0.3333333333333333,
             "#9c179e"
            ],
            [
             0.4444444444444444,
             "#bd3786"
            ],
            [
             0.5555555555555556,
             "#d8576b"
            ],
            [
             0.6666666666666666,
             "#ed7953"
            ],
            [
             0.7777777777777778,
             "#fb9f3a"
            ],
            [
             0.8888888888888888,
             "#fdca26"
            ],
            [
             1,
             "#f0f921"
            ]
           ]
          },
          "colorway": [
           "#636efa",
           "#EF553B",
           "#00cc96",
           "#ab63fa",
           "#FFA15A",
           "#19d3f3",
           "#FF6692",
           "#B6E880",
           "#FF97FF",
           "#FECB52"
          ],
          "font": {
           "color": "#2a3f5f"
          },
          "geo": {
           "bgcolor": "white",
           "lakecolor": "white",
           "landcolor": "#E5ECF6",
           "showlakes": true,
           "showland": true,
           "subunitcolor": "white"
          },
          "hoverlabel": {
           "align": "left"
          },
          "hovermode": "closest",
          "mapbox": {
           "style": "light"
          },
          "paper_bgcolor": "white",
          "plot_bgcolor": "#E5ECF6",
          "polar": {
           "angularaxis": {
            "gridcolor": "white",
            "linecolor": "white",
            "ticks": ""
           },
           "bgcolor": "#E5ECF6",
           "radialaxis": {
            "gridcolor": "white",
            "linecolor": "white",
            "ticks": ""
           }
          },
          "scene": {
           "xaxis": {
            "backgroundcolor": "#E5ECF6",
            "gridcolor": "white",
            "gridwidth": 2,
            "linecolor": "white",
            "showbackground": true,
            "ticks": "",
            "zerolinecolor": "white"
           },
           "yaxis": {
            "backgroundcolor": "#E5ECF6",
            "gridcolor": "white",
            "gridwidth": 2,
            "linecolor": "white",
            "showbackground": true,
            "ticks": "",
            "zerolinecolor": "white"
           },
           "zaxis": {
            "backgroundcolor": "#E5ECF6",
            "gridcolor": "white",
            "gridwidth": 2,
            "linecolor": "white",
            "showbackground": true,
            "ticks": "",
            "zerolinecolor": "white"
           }
          },
          "shapedefaults": {
           "line": {
            "color": "#2a3f5f"
           }
          },
          "ternary": {
           "aaxis": {
            "gridcolor": "white",
            "linecolor": "white",
            "ticks": ""
           },
           "baxis": {
            "gridcolor": "white",
            "linecolor": "white",
            "ticks": ""
           },
           "bgcolor": "#E5ECF6",
           "caxis": {
            "gridcolor": "white",
            "linecolor": "white",
            "ticks": ""
           }
          },
          "title": {
           "x": 0.05
          },
          "xaxis": {
           "automargin": true,
           "gridcolor": "white",
           "linecolor": "white",
           "ticks": "",
           "title": {
            "standoff": 15
           },
           "zerolinecolor": "white",
           "zerolinewidth": 2
          },
          "yaxis": {
           "automargin": true,
           "gridcolor": "white",
           "linecolor": "white",
           "ticks": "",
           "title": {
            "standoff": 15
           },
           "zerolinecolor": "white",
           "zerolinewidth": 2
          }
         }
        }
       }
      }
     },
     "metadata": {},
     "output_type": "display_data"
    }
   ],
   "source": [
    "import plotly.express as px\n",
    "\n",
    "fig = px.scatter_map(\n",
    "    sub_df,\n",
    "    lat=\"latitude\",\n",
    "    lon=\"longitude\",\n",
    "    size=\"avg\",\n",
    "    hover_name=\"location_name\",\n",
    "    size_max=45,\n",
    "    zoom=10,  # zoom in to Bangalore\n",
    ")\n",
    "\n",
    "fig.show()"
   ]
  },
  {
   "cell_type": "code",
   "execution_count": 3,
   "id": "ee9fd5ec",
   "metadata": {},
   "outputs": [
    {
     "data": {
      "text/plain": [
       "[WindowsPath('AQ_data/Bangalore/BTM Layout, Bengaluru - CPCB/12235356/2025/06/co_12235356.csv'),\n",
       " WindowsPath('AQ_data/Bangalore/BTM Layout, Bengaluru - CPCB/12235356/2025/12/co_12235356.csv'),\n",
       " WindowsPath('AQ_data/Bangalore/BTM Layout, Bengaluru - CPCB/12235357/2025/06/no_12235357.csv'),\n",
       " WindowsPath('AQ_data/Bangalore/BTM Layout, Bengaluru - CPCB/12235357/2025/12/no_12235357.csv'),\n",
       " WindowsPath('AQ_data/Bangalore/BTM Layout, Bengaluru - CPCB/12235358/2025/06/no2_12235358.csv'),\n",
       " WindowsPath('AQ_data/Bangalore/BTM Layout, Bengaluru - CPCB/12235358/2025/12/no2_12235358.csv'),\n",
       " WindowsPath('AQ_data/Bangalore/BTM Layout, Bengaluru - CPCB/12235359/2025/06/o3_12235359.csv'),\n",
       " WindowsPath('AQ_data/Bangalore/BTM Layout, Bengaluru - CPCB/12235359/2025/12/o3_12235359.csv'),\n",
       " WindowsPath('AQ_data/Bangalore/BTM Layout, Bengaluru - CPCB/12235360/2025/06/pm10_12235360.csv'),\n",
       " WindowsPath('AQ_data/Bangalore/BTM Layout, Bengaluru - CPCB/12235360/2025/12/pm10_12235360.csv'),\n",
       " WindowsPath('AQ_data/Bangalore/BTM Layout, Bengaluru - CPCB/12235361/2025/06/pm25_12235361.csv'),\n",
       " WindowsPath('AQ_data/Bangalore/BTM Layout, Bengaluru - CPCB/12235361/2025/12/pm25_12235361.csv'),\n",
       " WindowsPath('AQ_data/Bangalore/BTM Layout, Bengaluru - CPCB/12235362/2025/06/relativehumidity_12235362.csv'),\n",
       " WindowsPath('AQ_data/Bangalore/BTM Layout, Bengaluru - CPCB/12235362/2025/12/relativehumidity_12235362.csv'),\n",
       " WindowsPath('AQ_data/Bangalore/BTM Layout, Bengaluru - CPCB/12235363/2025/06/so2_12235363.csv'),\n",
       " WindowsPath('AQ_data/Bangalore/BTM Layout, Bengaluru - CPCB/12235363/2025/12/so2_12235363.csv'),\n",
       " WindowsPath('AQ_data/Bangalore/BTM Layout, Bengaluru - CPCB/12235364/2025/06/temperature_12235364.csv'),\n",
       " WindowsPath('AQ_data/Bangalore/BTM Layout, Bengaluru - CPCB/12235364/2025/12/temperature_12235364.csv'),\n",
       " WindowsPath('AQ_data/Bangalore/BTM Layout, Bengaluru - CPCB/1305377/2021/06/pm10_1305377.csv'),\n",
       " WindowsPath('AQ_data/Bangalore/BTM Layout, Bengaluru - CPCB/1305377/2021/12/pm10_1305377.csv'),\n",
       " WindowsPath('AQ_data/Bangalore/BTM Layout, Bengaluru - CPCB/1305377/2022/06/pm10_1305377.csv'),\n",
       " WindowsPath('AQ_data/Bangalore/BTM Layout, Bengaluru - CPCB/1305377/2022/12/pm10_1305377.csv'),\n",
       " WindowsPath('AQ_data/Bangalore/BTM Layout, Bengaluru - CPCB/14635/2018/06/pm25_14635.csv'),\n",
       " WindowsPath('AQ_data/Bangalore/BTM Layout, Bengaluru - CPCB/14635/2018/12/pm25_14635.csv'),\n",
       " WindowsPath('AQ_data/Bangalore/BTM Layout, Bengaluru - CPCB/14635/2019/06/pm25_14635.csv'),\n",
       " WindowsPath('AQ_data/Bangalore/BTM Layout, Bengaluru - CPCB/14635/2019/12/pm25_14635.csv'),\n",
       " WindowsPath('AQ_data/Bangalore/BTM Layout, Bengaluru - CPCB/14635/2020/06/pm25_14635.csv'),\n",
       " WindowsPath('AQ_data/Bangalore/BTM Layout, Bengaluru - CPCB/14635/2020/12/pm25_14635.csv'),\n",
       " WindowsPath('AQ_data/Bangalore/BTM Layout, Bengaluru - CPCB/14635/2021/06/pm25_14635.csv'),\n",
       " WindowsPath('AQ_data/Bangalore/BTM Layout, Bengaluru - CPCB/14635/2021/12/pm25_14635.csv'),\n",
       " WindowsPath('AQ_data/Bangalore/BTM Layout, Bengaluru - CPCB/14635/2022/06/pm25_14635.csv'),\n",
       " WindowsPath('AQ_data/Bangalore/BTM Layout, Bengaluru - CPCB/14635/2022/12/pm25_14635.csv'),\n",
       " WindowsPath('AQ_data/Bangalore/BTM Layout, Bengaluru - CPCB/14639/2018/06/no2_14639.csv'),\n",
       " WindowsPath('AQ_data/Bangalore/BTM Layout, Bengaluru - CPCB/14639/2018/12/no2_14639.csv'),\n",
       " WindowsPath('AQ_data/Bangalore/BTM Layout, Bengaluru - CPCB/14639/2019/06/no2_14639.csv'),\n",
       " WindowsPath('AQ_data/Bangalore/BTM Layout, Bengaluru - CPCB/14639/2019/12/no2_14639.csv'),\n",
       " WindowsPath('AQ_data/Bangalore/BTM Layout, Bengaluru - CPCB/14639/2020/06/no2_14639.csv'),\n",
       " WindowsPath('AQ_data/Bangalore/BTM Layout, Bengaluru - CPCB/14639/2020/12/no2_14639.csv'),\n",
       " WindowsPath('AQ_data/Bangalore/BTM Layout, Bengaluru - CPCB/14639/2021/06/no2_14639.csv'),\n",
       " WindowsPath('AQ_data/Bangalore/BTM Layout, Bengaluru - CPCB/14639/2021/12/no2_14639.csv'),\n",
       " WindowsPath('AQ_data/Bangalore/BTM Layout, Bengaluru - CPCB/14639/2022/06/no2_14639.csv'),\n",
       " WindowsPath('AQ_data/Bangalore/BTM Layout, Bengaluru - CPCB/14639/2022/12/no2_14639.csv'),\n",
       " WindowsPath('AQ_data/Bangalore/BTM Layout, Bengaluru - CPCB/14642/2018/06/so2_14642.csv'),\n",
       " WindowsPath('AQ_data/Bangalore/BTM Layout, Bengaluru - CPCB/14642/2018/12/so2_14642.csv'),\n",
       " WindowsPath('AQ_data/Bangalore/BTM Layout, Bengaluru - CPCB/14642/2019/06/so2_14642.csv'),\n",
       " WindowsPath('AQ_data/Bangalore/BTM Layout, Bengaluru - CPCB/14642/2019/12/so2_14642.csv'),\n",
       " WindowsPath('AQ_data/Bangalore/BTM Layout, Bengaluru - CPCB/14642/2020/06/so2_14642.csv'),\n",
       " WindowsPath('AQ_data/Bangalore/BTM Layout, Bengaluru - CPCB/14642/2020/12/so2_14642.csv'),\n",
       " WindowsPath('AQ_data/Bangalore/BTM Layout, Bengaluru - CPCB/14642/2021/06/so2_14642.csv'),\n",
       " WindowsPath('AQ_data/Bangalore/BTM Layout, Bengaluru - CPCB/14642/2021/12/so2_14642.csv'),\n",
       " WindowsPath('AQ_data/Bangalore/BTM Layout, Bengaluru - CPCB/14642/2022/06/so2_14642.csv'),\n",
       " WindowsPath('AQ_data/Bangalore/BTM Layout, Bengaluru - CPCB/14642/2022/12/so2_14642.csv'),\n",
       " WindowsPath('AQ_data/Bangalore/BTM Layout, Bengaluru - CPCB/14657/2018/06/co_14657.csv'),\n",
       " WindowsPath('AQ_data/Bangalore/BTM Layout, Bengaluru - CPCB/14657/2018/12/co_14657.csv'),\n",
       " WindowsPath('AQ_data/Bangalore/BTM Layout, Bengaluru - CPCB/14657/2019/06/co_14657.csv'),\n",
       " WindowsPath('AQ_data/Bangalore/BTM Layout, Bengaluru - CPCB/14657/2019/12/co_14657.csv'),\n",
       " WindowsPath('AQ_data/Bangalore/BTM Layout, Bengaluru - CPCB/14657/2020/06/co_14657.csv'),\n",
       " WindowsPath('AQ_data/Bangalore/BTM Layout, Bengaluru - CPCB/14657/2020/12/co_14657.csv'),\n",
       " WindowsPath('AQ_data/Bangalore/BTM Layout, Bengaluru - CPCB/14657/2021/06/co_14657.csv'),\n",
       " WindowsPath('AQ_data/Bangalore/BTM Layout, Bengaluru - CPCB/14657/2021/12/co_14657.csv'),\n",
       " WindowsPath('AQ_data/Bangalore/BTM Layout, Bengaluru - CPCB/14657/2022/06/co_14657.csv'),\n",
       " WindowsPath('AQ_data/Bangalore/BTM Layout, Bengaluru - CPCB/14657/2022/12/co_14657.csv'),\n",
       " WindowsPath('AQ_data/Bangalore/BTM Layout, Bengaluru - CPCB/14658/2018/06/o3_14658.csv'),\n",
       " WindowsPath('AQ_data/Bangalore/BTM Layout, Bengaluru - CPCB/14658/2018/12/o3_14658.csv'),\n",
       " WindowsPath('AQ_data/Bangalore/BTM Layout, Bengaluru - CPCB/14658/2019/06/o3_14658.csv'),\n",
       " WindowsPath('AQ_data/Bangalore/BTM Layout, Bengaluru - CPCB/14658/2019/12/o3_14658.csv'),\n",
       " WindowsPath('AQ_data/Bangalore/BTM Layout, Bengaluru - CPCB/14658/2020/06/o3_14658.csv'),\n",
       " WindowsPath('AQ_data/Bangalore/BTM Layout, Bengaluru - CPCB/14658/2020/12/o3_14658.csv'),\n",
       " WindowsPath('AQ_data/Bangalore/BTM Layout, Bengaluru - CPCB/14658/2021/06/o3_14658.csv'),\n",
       " WindowsPath('AQ_data/Bangalore/BTM Layout, Bengaluru - CPCB/14658/2021/12/o3_14658.csv'),\n",
       " WindowsPath('AQ_data/Bangalore/BTM Layout, Bengaluru - CPCB/14658/2022/06/o3_14658.csv'),\n",
       " WindowsPath('AQ_data/Bangalore/BTM Layout, Bengaluru - CPCB/14658/2022/12/o3_14658.csv')]"
      ]
     },
     "execution_count": 3,
     "metadata": {},
     "output_type": "execute_result"
    }
   ],
   "source": [
    "[f for f in csv_paths if location in str(f)]"
   ]
  },
  {
   "cell_type": "code",
   "execution_count": 25,
   "id": "6254f304",
   "metadata": {},
   "outputs": [],
   "source": [
    "import numpy as np"
   ]
  },
  {
   "cell_type": "code",
   "execution_count": 34,
   "id": "0fc01da8",
   "metadata": {},
   "outputs": [
    {
     "data": {
      "text/plain": [
       "array(['co', 'no', 'no2', 'o3', 'pm10', 'pm25', 'relativehumidity', 'so2',\n",
       "       'temperature', 'pm1', 'um003'], dtype=object)"
      ]
     },
     "execution_count": 34,
     "metadata": {},
     "output_type": "execute_result"
    }
   ],
   "source": [
    "df['pollutant'].unique()"
   ]
  },
  {
   "cell_type": "code",
   "execution_count": 30,
   "id": "587d079e",
   "metadata": {},
   "outputs": [],
   "source": [
    "mask = (df['location_name'] == location) & (df.index.year == int(year))"
   ]
  },
  {
   "cell_type": "code",
   "execution_count": 32,
   "id": "fe874154",
   "metadata": {},
   "outputs": [
    {
     "data": {
      "text/plain": [
       "array(['pm25', 'no2', 'so2', 'co', 'o3'], dtype=object)"
      ]
     },
     "execution_count": 32,
     "metadata": {},
     "output_type": "execute_result"
    }
   ],
   "source": [
    "df[mask].pollutant.unique()"
   ]
  },
  {
   "cell_type": "code",
   "execution_count": 7,
   "id": "b425dc32",
   "metadata": {},
   "outputs": [
    {
     "data": {
      "text/plain": [
       "Index(['id', 'pollutant', 'units'], dtype='object')"
      ]
     },
     "execution_count": 7,
     "metadata": {},
     "output_type": "execute_result"
    }
   ],
   "source": [
    "pd.read_csv(csv_paths[0]).columns"
   ]
  },
  {
   "cell_type": "code",
   "execution_count": null,
   "id": "d78d7ac1",
   "metadata": {},
   "outputs": [],
   "source": [
    "# year_files = [f for f in csv_paths if year in f.name]\n",
    "location_files = [f for f in year_files if location in str(f)]"
   ]
  },
  {
   "cell_type": "code",
   "execution_count": null,
   "id": "a70ccdf6",
   "metadata": {},
   "outputs": [
    {
     "data": {
      "text/plain": [
       "[]"
      ]
     },
     "execution_count": 26,
     "metadata": {},
     "output_type": "execute_result"
    }
   ],
   "source": []
  },
  {
   "cell_type": "code",
   "execution_count": 8,
   "id": "da7aabb8",
   "metadata": {},
   "outputs": [
    {
     "data": {
      "text/plain": [
       "WindowsPath('parameter_ids.csv')"
      ]
     },
     "execution_count": 8,
     "metadata": {},
     "output_type": "execute_result"
    }
   ],
   "source": [
    "csv_paths[0]"
   ]
  },
  {
   "cell_type": "code",
   "execution_count": 32,
   "id": "85e98ba9",
   "metadata": {},
   "outputs": [
    {
     "data": {
      "text/plain": [
       "['Hombegowda Nagar, Bengaluru - KSPCB',\n",
       " 'Hombegowda Nagar, Bengaluru - KSPCB',\n",
       " 'Hombegowda Nagar, Bengaluru - KSPCB',\n",
       " 'Hombegowda Nagar, Bengaluru - KSPCB',\n",
       " 'Hombegowda Nagar, Bengaluru - KSPCB',\n",
       " 'Hombegowda Nagar, Bengaluru - KSPCB',\n",
       " 'Hombegowda Nagar, Bengaluru - KSPCB',\n",
       " 'Hombegowda Nagar, Bengaluru - KSPCB',\n",
       " 'Hombegowda Nagar, Bengaluru - KSPCB',\n",
       " 'Hombegowda Nagar, Bengaluru - KSPCB',\n",
       " 'Hombegowda Nagar, Bengaluru - KSPCB',\n",
       " 'Hombegowda Nagar, Bengaluru - KSPCB',\n",
       " 'Hombegowda Nagar, Bengaluru - KSPCB',\n",
       " 'Hombegowda Nagar, Bengaluru - KSPCB',\n",
       " 'Hombegowda Nagar, Bengaluru - KSPCB',\n",
       " 'Hombegowda Nagar, Bengaluru - KSPCB',\n",
       " 'Hombegowda Nagar, Bengaluru - KSPCB',\n",
       " 'Hombegowda Nagar, Bengaluru - KSPCB',\n",
       " 'Hombegowda Nagar, Bengaluru - KSPCB',\n",
       " 'Hombegowda Nagar, Bengaluru - KSPCB',\n",
       " 'Hombegowda Nagar, Bengaluru - KSPCB',\n",
       " 'Hombegowda Nagar, Bengaluru - KSPCB',\n",
       " 'Hombegowda Nagar, Bengaluru - KSPCB',\n",
       " 'Hombegowda Nagar, Bengaluru - KSPCB',\n",
       " 'Hombegowda Nagar, Bengaluru - KSPCB',\n",
       " 'Hombegowda Nagar, Bengaluru - KSPCB',\n",
       " 'Hombegowda Nagar, Bengaluru - KSPCB',\n",
       " 'Hombegowda Nagar, Bengaluru - KSPCB',\n",
       " 'Hombegowda Nagar, Bengaluru - KSPCB',\n",
       " 'Hombegowda Nagar, Bengaluru - KSPCB',\n",
       " 'Hombegowda Nagar, Bengaluru - KSPCB',\n",
       " 'Hombegowda Nagar, Bengaluru - KSPCB',\n",
       " 'Hombegowda Nagar, Bengaluru - KSPCB',\n",
       " 'Hombegowda Nagar, Bengaluru - KSPCB',\n",
       " 'Hombegowda Nagar, Bengaluru - KSPCB',\n",
       " 'Hombegowda Nagar, Bengaluru - KSPCB',\n",
       " 'Hombegowda Nagar, Bengaluru - KSPCB',\n",
       " 'Hombegowda Nagar, Bengaluru - KSPCB',\n",
       " 'Hombegowda Nagar, Bengaluru - KSPCB',\n",
       " 'Hombegowda Nagar, Bengaluru - KSPCB',\n",
       " 'Hombegowda Nagar, Bengaluru - KSPCB',\n",
       " 'Hombegowda Nagar, Bengaluru - KSPCB',\n",
       " 'Hombegowda Nagar, Bengaluru - KSPCB',\n",
       " 'Hombegowda Nagar, Bengaluru - KSPCB',\n",
       " 'Hombegowda Nagar, Bengaluru - KSPCB']"
      ]
     },
     "execution_count": 32,
     "metadata": {},
     "output_type": "execute_result"
    }
   ],
   "source": [
    "[str(f).split(\"\\\\\")[2] for f in year_files]"
   ]
  },
  {
   "cell_type": "code",
   "execution_count": 11,
   "id": "f28401ff",
   "metadata": {},
   "outputs": [
    {
     "data": {
      "text/plain": [
       "[]"
      ]
     },
     "execution_count": 11,
     "metadata": {},
     "output_type": "execute_result"
    }
   ],
   "source": [
    "year_files"
   ]
  },
  {
   "cell_type": "code",
   "execution_count": 34,
   "id": "ba0ccc98",
   "metadata": {},
   "outputs": [
    {
     "ename": "SyntaxError",
     "evalue": "'yield' outside function (3044586234.py, line 1)",
     "output_type": "error",
     "traceback": [
      "  \u001b[36mCell\u001b[39m\u001b[36m \u001b[39m\u001b[32mIn[34]\u001b[39m\u001b[32m, line 1\u001b[39m\n\u001b[31m    \u001b[39m\u001b[31myield csv_paths\u001b[39m\n    ^\n\u001b[31mSyntaxError\u001b[39m\u001b[31m:\u001b[39m 'yield' outside function\n"
     ]
    }
   ],
   "source": [
    "yield csv_paths"
   ]
  }
 ],
 "metadata": {
  "kernelspec": {
   "display_name": ".venv (3.11.0)",
   "language": "python",
   "name": "python3"
  },
  "language_info": {
   "codemirror_mode": {
    "name": "ipython",
    "version": 3
   },
   "file_extension": ".py",
   "mimetype": "text/x-python",
   "name": "python",
   "nbconvert_exporter": "python",
   "pygments_lexer": "ipython3",
   "version": "3.11.0"
  }
 },
 "nbformat": 4,
 "nbformat_minor": 5
}
