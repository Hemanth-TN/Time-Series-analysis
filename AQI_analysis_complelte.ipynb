{
 "cells": [
  {
   "cell_type": "code",
   "execution_count": 1,
   "id": "ec37311c",
   "metadata": {},
   "outputs": [],
   "source": [
    "import os\n",
    "import json"
   ]
  },
  {
   "cell_type": "code",
   "execution_count": 2,
   "id": "590afbaf",
   "metadata": {},
   "outputs": [],
   "source": [
    "with open(\"Open AQ Data/response_1730147830632.json\", 'r') as f:\n",
    "    response = json.load(f)"
   ]
  },
  {
   "cell_type": "code",
   "execution_count": 4,
   "id": "8992bcf1",
   "metadata": {},
   "outputs": [
    {
     "data": {
      "text/plain": [
       "dict"
      ]
     },
     "execution_count": 4,
     "metadata": {},
     "output_type": "execute_result"
    }
   ],
   "source": [
    "type(response)"
   ]
  },
  {
   "cell_type": "code",
   "execution_count": 9,
   "id": "a42ae46d",
   "metadata": {},
   "outputs": [
    {
     "data": {
      "text/plain": [
       "{'name': 'openaq-api',\n",
       " 'website': '/',\n",
       " 'page': 1,\n",
       " 'limit': 100,\n",
       " 'found': '>100'}"
      ]
     },
     "execution_count": 9,
     "metadata": {},
     "output_type": "execute_result"
    }
   ],
   "source": [
    "response['meta']"
   ]
  },
  {
   "cell_type": "code",
   "execution_count": 13,
   "id": "3d82ed59",
   "metadata": {},
   "outputs": [
    {
     "data": {
      "text/plain": [
       "100"
      ]
     },
     "execution_count": 13,
     "metadata": {},
     "output_type": "execute_result"
    }
   ],
   "source": [
    "len(response['results'])"
   ]
  },
  {
   "cell_type": "code",
   "execution_count": 15,
   "id": "a30e471f",
   "metadata": {},
   "outputs": [
    {
     "data": {
      "text/plain": [
       "dict_keys(['value', 'flagInfo', 'parameter', 'period', 'coordinates', 'summary', 'coverage'])"
      ]
     },
     "execution_count": 15,
     "metadata": {},
     "output_type": "execute_result"
    }
   ],
   "source": [
    "response['results'][0].keys()"
   ]
  },
  {
   "cell_type": "code",
   "execution_count": 23,
   "id": "ca3995b6",
   "metadata": {},
   "outputs": [
    {
     "data": {
      "text/plain": [
       "'2016-04-06T20:00:00Z'"
      ]
     },
     "execution_count": 23,
     "metadata": {},
     "output_type": "execute_result"
    }
   ],
   "source": [
    "response['results'][1]['period']['datetimeFrom']['utc']"
   ]
  },
  {
   "cell_type": "code",
   "execution_count": 25,
   "id": "046ff713",
   "metadata": {},
   "outputs": [
    {
     "data": {
      "text/plain": [
       "0.052"
      ]
     },
     "execution_count": 25,
     "metadata": {},
     "output_type": "execute_result"
    }
   ],
   "source": [
    "response['results'][1]['value']"
   ]
  },
  {
   "cell_type": "code",
   "execution_count": 26,
   "id": "58087942",
   "metadata": {},
   "outputs": [
    {
     "data": {
      "text/plain": [
       "[0.049,\n",
       " 0.052,\n",
       " 0.052,\n",
       " 0.049,\n",
       " 0.044,\n",
       " 0.037,\n",
       " 0.048,\n",
       " 0.037,\n",
       " 0.033,\n",
       " 0.04,\n",
       " 0.031,\n",
       " 0.035,\n",
       " 0.042,\n",
       " 0.029,\n",
       " 0.019,\n",
       " 0.068,\n",
       " 0.064,\n",
       " 0.055,\n",
       " 0.051,\n",
       " 0.044,\n",
       " 0.044,\n",
       " 0.046,\n",
       " 0.029,\n",
       " 0.028,\n",
       " 0.029,\n",
       " 0.023,\n",
       " 0.021,\n",
       " 0.019,\n",
       " 0.019,\n",
       " 0.02,\n",
       " 0.025,\n",
       " 0.035,\n",
       " 0.051,\n",
       " 0.049,\n",
       " 0.04,\n",
       " 0.041,\n",
       " 0.039,\n",
       " 0.041,\n",
       " 0.035,\n",
       " 0.029,\n",
       " 0.03,\n",
       " 0.033,\n",
       " 0.035,\n",
       " 0.038,\n",
       " 0.033,\n",
       " 0.029,\n",
       " 0.035,\n",
       " 0.039,\n",
       " 0.039,\n",
       " 0.04,\n",
       " 0.041,\n",
       " 0.04,\n",
       " 0.041,\n",
       " 0.042,\n",
       " 0.042,\n",
       " 0.042,\n",
       " 0.042,\n",
       " 0.041,\n",
       " 0.041,\n",
       " 0.042,\n",
       " 0.04,\n",
       " 0.039,\n",
       " 0.039,\n",
       " 0.039,\n",
       " 0.035,\n",
       " 0.028,\n",
       " 0.025,\n",
       " 0.025,\n",
       " 0.045,\n",
       " 0.046,\n",
       " 0.044,\n",
       " 0.043,\n",
       " 0.038,\n",
       " 0.036,\n",
       " 0.039,\n",
       " 0.031,\n",
       " 0.034,\n",
       " 0.039,\n",
       " 0.041,\n",
       " 0.039,\n",
       " 0.032,\n",
       " 0.033,\n",
       " 0.039,\n",
       " 0.046,\n",
       " 0.049,\n",
       " 0.053,\n",
       " 0.05,\n",
       " 0.046,\n",
       " 0.045,\n",
       " 0.045,\n",
       " 0.048,\n",
       " 0.051,\n",
       " 0.051,\n",
       " 0.052,\n",
       " 0.051,\n",
       " 0.05,\n",
       " 0.051,\n",
       " 0.05,\n",
       " 0.05,\n",
       " 0.048]"
      ]
     },
     "execution_count": 26,
     "metadata": {},
     "output_type": "execute_result"
    }
   ],
   "source": [
    "[k['value'] for k in response['results']]"
   ]
  }
 ],
 "metadata": {
  "kernelspec": {
   "display_name": "base",
   "language": "python",
   "name": "python3"
  },
  "language_info": {
   "codemirror_mode": {
    "name": "ipython",
    "version": 3
   },
   "file_extension": ".py",
   "mimetype": "text/x-python",
   "name": "python",
   "nbconvert_exporter": "python",
   "pygments_lexer": "ipython3",
   "version": "3.13.5"
  }
 },
 "nbformat": 4,
 "nbformat_minor": 5
}
