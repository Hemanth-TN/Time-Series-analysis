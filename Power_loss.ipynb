{
 "cells": [
  {
   "cell_type": "markdown",
   "metadata": {},
   "source": [
    "The equation to be used based on the [paper](https://www.sciencedirect.com/science/article/pii/S0140988324006327?via%3Dihub)\n",
    "\n",
    "$y=-0.028*PM10 + 92.941*SD - 0.550*P + 0.568*T + 0.026*T^2 + 1.015*WS - 2.481*CC$\n",
    "\n",
    "$y$ - Solar radiation (Mega Watt Hour, MWh) \n",
    "$\\\\PM10$ - Air pollutant ($\\mu g/m^3$)\n",
    "$\\\\SD$ - Sunshine duration (hours)\n",
    "$\\\\P$ - Precipitation (Millimeters)\n",
    "$\\\\T$ - Temperature (degree celsius)\n",
    "$\\\\WS$ - Wind Speed (meters  per second)\n",
    "$\\\\CC$ - Cloud Cover (scale from 0 -10), 0 being no cloud, 10 being cloudy for the whole day"
   ]
  },
  {
   "cell_type": "markdown",
   "metadata": {},
   "source": [
    "Assumed efficiency, $\\eta$=0.2, The effciency remains same in both polluted and clean environment (which is not the case in reality)\n",
    "$\\\\$\n",
    "Price per Kilowatt, 15 cents, 0.15$/kW"
   ]
  },
  {
   "cell_type": "code",
   "execution_count": 135,
   "metadata": {},
   "outputs": [],
   "source": [
    "import numpy as np\n",
    "beta_pm10 = -0.028\n",
    "beta_sd = 92.941\n",
    "beta_p = -0.550\n",
    "beta_t = 0.568\n",
    "beta_t2 = 0.026\n",
    "beta_ws = 1.015\n",
    "beta_cc = -2.481"
   ]
  },
  {
   "cell_type": "code",
   "execution_count": 136,
   "metadata": {},
   "outputs": [
    {
     "data": {
      "text/plain": [
       "465.487"
      ]
     },
     "execution_count": 136,
     "metadata": {},
     "output_type": "execute_result"
    }
   ],
   "source": [
    "#clean case\n",
    "pm10 = 45 #Most places in USA have about 30, but WHO guideline is 45\n",
    "sd = 5 #Average sunshine duration\n",
    "p = 1.5 # assuming 1.5 preciptiation\n",
    "t = 10 # average temp in a day\n",
    "ws = 2 # average windspeed\n",
    "cc = 3 # scaled on 0 -10\n",
    "coef = np.array([beta_pm10, beta_sd, beta_p, beta_t, beta_t2, beta_ws, beta_cc])\n",
    "values = np.array([pm10, sd, p, t, t**2, ws, cc])\n",
    "y_clean = np.dot(coef, values)\n",
    "y_clean\n"
   ]
  },
  {
   "cell_type": "code",
   "execution_count": 137,
   "metadata": {},
   "outputs": [
    {
     "data": {
      "text/plain": [
       "464.927"
      ]
     },
     "execution_count": 137,
     "metadata": {},
     "output_type": "execute_result"
    }
   ],
   "source": [
    "#polluted case\n",
    "pm10 = 65 #worst case scene in US\n",
    "coef = np.array([beta_pm10, beta_sd, beta_p, beta_t, beta_t2, beta_ws, beta_cc])\n",
    "values = np.array([pm10, sd, p, t, t**2, ws, cc])\n",
    "y_polluted = np.dot(coef, values)\n",
    "y_polluted\n"
   ]
  },
  {
   "cell_type": "code",
   "execution_count": 138,
   "metadata": {},
   "outputs": [],
   "source": [
    "eta = 0.2 #assumed efficiency\n",
    "sp = 0.15 #average selling price of electricity (this is probably for residents, likely to be lower for commercial entities)"
   ]
  },
  {
   "cell_type": "code",
   "execution_count": 139,
   "metadata": {},
   "outputs": [
    {
     "data": {
      "text/plain": [
       "0.1471680000000006"
      ]
     },
     "execution_count": 139,
     "metadata": {},
     "output_type": "execute_result"
    }
   ],
   "source": [
    "total_loss = ((y_clean - y_polluted)*eta*24*365*1000*sp)/1000_000\n",
    "total_loss"
   ]
  },
  {
   "cell_type": "code",
   "execution_count": 140,
   "metadata": {},
   "outputs": [
    {
     "name": "stdout",
     "output_type": "stream",
     "text": [
      "The loss in revenue per year is about 0.15 Millions\n"
     ]
    }
   ],
   "source": [
    "print(f\"The loss in revenue per year is about {total_loss:.2f} Millions\")"
   ]
  }
 ],
 "metadata": {
  "kernelspec": {
   "display_name": "Udemy_env",
   "language": "python",
   "name": "python3"
  },
  "language_info": {
   "codemirror_mode": {
    "name": "ipython",
    "version": 3
   },
   "file_extension": ".py",
   "mimetype": "text/x-python",
   "name": "python",
   "nbconvert_exporter": "python",
   "pygments_lexer": "ipython3",
   "version": "3.8.17"
  }
 },
 "nbformat": 4,
 "nbformat_minor": 2
}
